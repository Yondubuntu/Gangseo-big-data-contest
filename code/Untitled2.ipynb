{
 "cells": [
  {
   "cell_type": "code",
   "execution_count": 7,
   "id": "cdb741ab",
   "metadata": {},
   "outputs": [],
   "source": [
    "import pandas as pd\n",
    "import numpy as  np\n",
    "import seaborn as sns\n",
    "import matplotlib.pyplot as plt\n",
    "from matplotlib.pyplot import plot \n",
    "\n",
    "df = pd.read_excel('./data/총노인 인구수(2020).xls' )\n"
   ]
  },
  {
   "cell_type": "code",
   "execution_count": 4,
   "id": "b6a28571",
   "metadata": {},
   "outputs": [
    {
     "data": {
      "text/html": [
       "<div>\n",
       "<style scoped>\n",
       "    .dataframe tbody tr th:only-of-type {\n",
       "        vertical-align: middle;\n",
       "    }\n",
       "\n",
       "    .dataframe tbody tr th {\n",
       "        vertical-align: top;\n",
       "    }\n",
       "\n",
       "    .dataframe thead th {\n",
       "        text-align: right;\n",
       "    }\n",
       "</style>\n",
       "<table border=\"1\" class=\"dataframe\">\n",
       "  <thead>\n",
       "    <tr style=\"text-align: right;\">\n",
       "      <th></th>\n",
       "      <th>기간</th>\n",
       "      <th>자치구</th>\n",
       "      <th>동</th>\n",
       "      <th>전체인구</th>\n",
       "      <th>전체인구.1</th>\n",
       "      <th>전체인구.2</th>\n",
       "      <th>65세이상 인구</th>\n",
       "      <th>65세이상 인구.1</th>\n",
       "      <th>65세이상 인구.2</th>\n",
       "      <th>65세이상 인구.3</th>\n",
       "      <th>65세이상 인구.4</th>\n",
       "      <th>65세이상 인구.5</th>\n",
       "      <th>65세이상 인구.6</th>\n",
       "      <th>65세이상 인구.7</th>\n",
       "      <th>65세이상 인구.8</th>\n",
       "    </tr>\n",
       "  </thead>\n",
       "  <tbody>\n",
       "    <tr>\n",
       "      <th>0</th>\n",
       "      <td>기간</td>\n",
       "      <td>자치구</td>\n",
       "      <td>동</td>\n",
       "      <td>전체인구</td>\n",
       "      <td>전체인구</td>\n",
       "      <td>전체인구</td>\n",
       "      <td>합계</td>\n",
       "      <td>합계</td>\n",
       "      <td>합계</td>\n",
       "      <td>내국인</td>\n",
       "      <td>내국인</td>\n",
       "      <td>내국인</td>\n",
       "      <td>외국인</td>\n",
       "      <td>외국인</td>\n",
       "      <td>외국인</td>\n",
       "    </tr>\n",
       "    <tr>\n",
       "      <th>1</th>\n",
       "      <td>기간</td>\n",
       "      <td>자치구</td>\n",
       "      <td>동</td>\n",
       "      <td>계</td>\n",
       "      <td>남자</td>\n",
       "      <td>여자</td>\n",
       "      <td>계</td>\n",
       "      <td>남자</td>\n",
       "      <td>여자</td>\n",
       "      <td>계</td>\n",
       "      <td>남자</td>\n",
       "      <td>여자</td>\n",
       "      <td>계</td>\n",
       "      <td>남자</td>\n",
       "      <td>여자</td>\n",
       "    </tr>\n",
       "    <tr>\n",
       "      <th>2</th>\n",
       "      <td>2021</td>\n",
       "      <td>합계</td>\n",
       "      <td>합계</td>\n",
       "      <td>9736027</td>\n",
       "      <td>4721977</td>\n",
       "      <td>5014050</td>\n",
       "      <td>1605416</td>\n",
       "      <td>711522</td>\n",
       "      <td>893894</td>\n",
       "      <td>1597447</td>\n",
       "      <td>707297</td>\n",
       "      <td>890150</td>\n",
       "      <td>7969</td>\n",
       "      <td>4225</td>\n",
       "      <td>3744</td>\n",
       "    </tr>\n",
       "    <tr>\n",
       "      <th>3</th>\n",
       "      <td>2021</td>\n",
       "      <td>종로구</td>\n",
       "      <td>소계</td>\n",
       "      <td>153789</td>\n",
       "      <td>74186</td>\n",
       "      <td>79603</td>\n",
       "      <td>27818</td>\n",
       "      <td>12437</td>\n",
       "      <td>15381</td>\n",
       "      <td>27609</td>\n",
       "      <td>12317</td>\n",
       "      <td>15292</td>\n",
       "      <td>209</td>\n",
       "      <td>120</td>\n",
       "      <td>89</td>\n",
       "    </tr>\n",
       "    <tr>\n",
       "      <th>4</th>\n",
       "      <td>2021</td>\n",
       "      <td>종로구</td>\n",
       "      <td>사직동</td>\n",
       "      <td>9636</td>\n",
       "      <td>4353</td>\n",
       "      <td>5283</td>\n",
       "      <td>1774</td>\n",
       "      <td>779</td>\n",
       "      <td>995</td>\n",
       "      <td>1754</td>\n",
       "      <td>767</td>\n",
       "      <td>987</td>\n",
       "      <td>20</td>\n",
       "      <td>12</td>\n",
       "      <td>8</td>\n",
       "    </tr>\n",
       "  </tbody>\n",
       "</table>\n",
       "</div>"
      ],
      "text/plain": [
       "     기간  자치구    동     전체인구   전체인구.1   전체인구.2 65세이상 인구 65세이상 인구.1 65세이상 인구.2  \\\n",
       "0    기간  자치구    동     전체인구     전체인구     전체인구       합계         합계         합계   \n",
       "1    기간  자치구    동        계       남자       여자        계         남자         여자   \n",
       "2  2021   합계   합계  9736027  4721977  5014050  1605416     711522     893894   \n",
       "3  2021  종로구   소계   153789    74186    79603    27818      12437      15381   \n",
       "4  2021  종로구  사직동     9636     4353     5283     1774        779        995   \n",
       "\n",
       "  65세이상 인구.3 65세이상 인구.4 65세이상 인구.5 65세이상 인구.6 65세이상 인구.7 65세이상 인구.8  \n",
       "0        내국인        내국인        내국인        외국인        외국인        외국인  \n",
       "1          계         남자         여자          계         남자         여자  \n",
       "2    1597447     707297     890150       7969       4225       3744  \n",
       "3      27609      12317      15292        209        120         89  \n",
       "4       1754        767        987         20         12          8  "
      ]
     },
     "execution_count": 4,
     "metadata": {},
     "output_type": "execute_result"
    }
   ],
   "source": [
    "df.head()"
   ]
  },
  {
   "cell_type": "code",
   "execution_count": 9,
   "id": "eed2659e",
   "metadata": {},
   "outputs": [],
   "source": [
    "\n",
    "del df['전체인구.1']\n",
    "del df['전체인구.2']\n",
    "del df['65세이상 인구.1']\n",
    "del df['65세이상 인구.2']\n",
    "del df['65세이상 인구.4']\n",
    "del df['65세이상 인구.5']\n",
    "del df['65세이상 인구.6']\n",
    "del df['65세이상 인구.7']\n",
    "del df['65세이상 인구.8']"
   ]
  },
  {
   "cell_type": "code",
   "execution_count": 12,
   "id": "90042c41",
   "metadata": {},
   "outputs": [
    {
     "data": {
      "text/plain": [
       "<bound method NDFrame.head of        기간  자치구     전체인구 65세이상 인구.3\n",
       "0      기간  자치구     전체인구        내국인\n",
       "1      기간  자치구        계          계\n",
       "2    2021   합계  9736027    1597447\n",
       "3    2021  종로구   153789      27609\n",
       "4    2021  종로구     9636       1754\n",
       "..    ...  ...      ...        ...\n",
       "449  2021  강동구    33753       5888\n",
       "450  2021  강동구    45973       7983\n",
       "451  2021  강동구    32982       5317\n",
       "452  2021  강동구    38929       4392\n",
       "453  2021  강동구    10200       1493\n",
       "\n",
       "[454 rows x 4 columns]>"
      ]
     },
     "execution_count": 12,
     "metadata": {},
     "output_type": "execute_result"
    }
   ],
   "source": [
    "df.head\n"
   ]
  },
  {
   "cell_type": "code",
   "execution_count": 13,
   "id": "69e81ea4",
   "metadata": {},
   "outputs": [
    {
     "data": {
      "text/plain": [
       "<bound method NDFrame.tail of        기간  자치구     전체인구 65세이상 인구.3\n",
       "0      기간  자치구     전체인구        내국인\n",
       "1      기간  자치구        계          계\n",
       "2    2021   합계  9736027    1597447\n",
       "3    2021  종로구   153789      27609\n",
       "4    2021  종로구     9636       1754\n",
       "..    ...  ...      ...        ...\n",
       "449  2021  강동구    33753       5888\n",
       "450  2021  강동구    45973       7983\n",
       "451  2021  강동구    32982       5317\n",
       "452  2021  강동구    38929       4392\n",
       "453  2021  강동구    10200       1493\n",
       "\n",
       "[454 rows x 4 columns]>"
      ]
     },
     "execution_count": 13,
     "metadata": {},
     "output_type": "execute_result"
    }
   ],
   "source": [
    "df.tail"
   ]
  },
  {
   "cell_type": "code",
   "execution_count": 15,
   "id": "8ecaa678",
   "metadata": {},
   "outputs": [],
   "source": [
    "import pandas as pd\n",
    "import numpy as  np\n",
    "import seaborn as sns\n",
    "import matplotlib.pyplot as plt\n",
    "from matplotlib.pyplot import plot \n",
    "\n",
    "senior = pd.read_excel('./data/총노인 인구수(2020).xls' )"
   ]
  },
  {
   "cell_type": "code",
   "execution_count": null,
   "id": "95766069",
   "metadata": {},
   "outputs": [],
   "source": []
  }
 ],
 "metadata": {
  "kernelspec": {
   "display_name": "Python 3.9.7 64-bit",
   "language": "python",
   "name": "python397jvsc74a57bd0b0fa6594d8f4cbf19f97940f81e996739fb7646882a419484c72d19e05852a7e"
  },
  "language_info": {
   "codemirror_mode": {
    "name": "ipython",
    "version": 3
   },
   "file_extension": ".py",
   "mimetype": "text/x-python",
   "name": "python",
   "nbconvert_exporter": "python",
   "pygments_lexer": "ipython3",
   "version": "3.9.10"
  }
 },
 "nbformat": 4,
 "nbformat_minor": 5
}
