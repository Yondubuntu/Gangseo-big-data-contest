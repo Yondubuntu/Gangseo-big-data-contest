{
 "cells": [
  {
   "cell_type": "code",
   "execution_count": 265,
   "id": "deb07eb6",
   "metadata": {},
   "outputs": [],
   "source": [
    "df=pd.read_csv('C:/Users/jream/Desktop/강서구 노인 복지/질병소분류별.csv',encoding='cp949')\n",
    "df.index = ['1','2','3','4']\n",
    "\n",
    "\n"
   ]
  },
  {
   "cell_type": "code",
   "execution_count": 266,
   "id": "10c24cb3",
   "metadata": {},
   "outputs": [
    {
     "data": {
      "text/html": [
       "<div>\n",
       "<style scoped>\n",
       "    .dataframe tbody tr th:only-of-type {\n",
       "        vertical-align: middle;\n",
       "    }\n",
       "\n",
       "    .dataframe tbody tr th {\n",
       "        vertical-align: top;\n",
       "    }\n",
       "\n",
       "    .dataframe thead th {\n",
       "        text-align: right;\n",
       "    }\n",
       "</style>\n",
       "<table border=\"1\" class=\"dataframe\">\n",
       "  <thead>\n",
       "    <tr style=\"text-align: right;\">\n",
       "      <th></th>\n",
       "      <th>질병명</th>\n",
       "      <th>진료실인원</th>\n",
       "    </tr>\n",
       "  </thead>\n",
       "  <tbody>\n",
       "    <tr>\n",
       "      <th>1</th>\n",
       "      <td>본태성(원발성)고혈압</td>\n",
       "      <td>2736034</td>\n",
       "    </tr>\n",
       "    <tr>\n",
       "      <th>2</th>\n",
       "      <td>치은염및치주질환</td>\n",
       "      <td>2671343</td>\n",
       "    </tr>\n",
       "    <tr>\n",
       "      <th>3</th>\n",
       "      <td>급성기관지염</td>\n",
       "      <td>2179869</td>\n",
       "    </tr>\n",
       "    <tr>\n",
       "      <th>4</th>\n",
       "      <td>등통증</td>\n",
       "      <td>1577986</td>\n",
       "    </tr>\n",
       "  </tbody>\n",
       "</table>\n",
       "</div>"
      ],
      "text/plain": [
       "           질병명   진료실인원 \n",
       "1  본태성(원발성)고혈압  2736034\n",
       "2     치은염및치주질환  2671343\n",
       "3       급성기관지염  2179869\n",
       "4          등통증  1577986"
      ]
     },
     "execution_count": 266,
     "metadata": {},
     "output_type": "execute_result"
    }
   ],
   "source": [
    "df"
   ]
  },
  {
   "cell_type": "code",
   "execution_count": 294,
   "id": "da58e7b2",
   "metadata": {},
   "outputs": [
    {
     "data": {
      "text/plain": [
       "Text(0.5, 1.0, '노인 질병 비율')"
      ]
     },
     "execution_count": 294,
     "metadata": {},
     "output_type": "execute_result"
    },
    {
     "data": {
      "image/png": "[encoded data removed]",
      "text/plain": [
       "<Figure size 432x288 with 1 Axes>"
      ]
     },
     "metadata": {},
     "output_type": "display_data"
    }
   ],
   "source": [
    "import os\n",
    "import pandas as pd\n",
    "plt.rc('font', family='Malgun Gothic')\n",
    "df_질병명=df[\"질병명\"].sort_values(ascending=False)\n",
    "fig, ax=plt.subplots(1,1)\n",
    "ax.pie(sizes, labels=labels)\n",
    "ax.set_title(\"노인 질병 비율\")"
   ]
  },
  {
   "cell_type": "code",
   "execution_count": 300,
   "id": "5631828c",
   "metadata": {},
   "outputs": [
    {
     "name": "stdout",
     "output_type": "stream",
     "text": [
      "   001 시군구별(1)  001 시군구별(2)  합계    Y2017 2017  Y2017 2017.1  Y2017 2017.2  \\\n",
      "0  001 시군구별(1)  001 시군구별(2)  합계  001 일상생활수행능력  001 일상생활수행능력  001 일상생활수행능력   \n",
      "1  001 시군구별(1)  001 시군구별(2)  합계      00102 정상      00103 경증     00104 중등증   \n",
      "2           서울          강서구  합계          3329           108            18   \n",
      "\n",
      "   Y2017 2017.3 Y2017 2017.4 Y2017 2017.5 Y2017 2017.6 Y2017 2017.7  \\\n",
      "0  001 일상생활수행능력       002 시력       002 시력       003 청력       003 청력   \n",
      "1     00105 최중증     00202 정상   00203 시력저하     00302 정상   00303 청력저하   \n",
      "2            49         2846          658         3059          445   \n",
      "\n",
      "  Y2017 2017.8 Y2017 2017.9 Y2017 2017.10  \n",
      "0     004 기능검사     004 기능검사      004 기능검사  \n",
      "1     00402 정상     00403 경증      00404 중증  \n",
      "2         2247         1077           180  \n"
     ]
    }
   ],
   "source": [
    "import pandas as pd\n",
    "df_1=pd.read_csv('C:/Users/jream/Desktop/강서구 노인 복지/시군구별_성별_생애전환기_66세__건강진단_1차_일상생활_수행능력_및_노인신체기능평가_결과_20220321184105.csv',encoding='cp949')\n",
    "print(df_1.head())"
   ]
  },
  {
   "cell_type": "code",
   "execution_count": 301,
   "id": "e90a58e0",
   "metadata": {
    "scrolled": true
   },
   "outputs": [
    {
     "data": {
      "text/html": [
       "<div>\n",
       "<style scoped>\n",
       "    .dataframe tbody tr th:only-of-type {\n",
       "        vertical-align: middle;\n",
       "    }\n",
       "\n",
       "    .dataframe tbody tr th {\n",
       "        vertical-align: top;\n",
       "    }\n",
       "\n",
       "    .dataframe thead th {\n",
       "        text-align: right;\n",
       "    }\n",
       "</style>\n",
       "<table border=\"1\" class=\"dataframe\">\n",
       "  <thead>\n",
       "    <tr style=\"text-align: right;\">\n",
       "      <th></th>\n",
       "      <th>001 시군구별(1)</th>\n",
       "      <th>001 시군구별(2)</th>\n",
       "      <th>합계</th>\n",
       "      <th>Y2017 2017</th>\n",
       "      <th>Y2017 2017.1</th>\n",
       "      <th>Y2017 2017.2</th>\n",
       "      <th>Y2017 2017.3</th>\n",
       "      <th>Y2017 2017.4</th>\n",
       "      <th>Y2017 2017.5</th>\n",
       "      <th>Y2017 2017.6</th>\n",
       "      <th>Y2017 2017.7</th>\n",
       "      <th>Y2017 2017.8</th>\n",
       "      <th>Y2017 2017.9</th>\n",
       "      <th>Y2017 2017.10</th>\n",
       "    </tr>\n",
       "  </thead>\n",
       "  <tbody>\n",
       "    <tr>\n",
       "      <th>0</th>\n",
       "      <td>001 시군구별(1)</td>\n",
       "      <td>001 시군구별(2)</td>\n",
       "      <td>합계</td>\n",
       "      <td>001 일상생활수행능력</td>\n",
       "      <td>001 일상생활수행능력</td>\n",
       "      <td>001 일상생활수행능력</td>\n",
       "      <td>001 일상생활수행능력</td>\n",
       "      <td>002 시력</td>\n",
       "      <td>002 시력</td>\n",
       "      <td>003 청력</td>\n",
       "      <td>003 청력</td>\n",
       "      <td>004 기능검사</td>\n",
       "      <td>004 기능검사</td>\n",
       "      <td>004 기능검사</td>\n",
       "    </tr>\n",
       "    <tr>\n",
       "      <th>1</th>\n",
       "      <td>001 시군구별(1)</td>\n",
       "      <td>001 시군구별(2)</td>\n",
       "      <td>합계</td>\n",
       "      <td>00102 정상</td>\n",
       "      <td>00103 경증</td>\n",
       "      <td>00104 중등증</td>\n",
       "      <td>00105 최중증</td>\n",
       "      <td>00202 정상</td>\n",
       "      <td>00203 시력저하</td>\n",
       "      <td>00302 정상</td>\n",
       "      <td>00303 청력저하</td>\n",
       "      <td>00402 정상</td>\n",
       "      <td>00403 경증</td>\n",
       "      <td>00404 중증</td>\n",
       "    </tr>\n",
       "    <tr>\n",
       "      <th>2</th>\n",
       "      <td>서울</td>\n",
       "      <td>강서구</td>\n",
       "      <td>합계</td>\n",
       "      <td>3329</td>\n",
       "      <td>108</td>\n",
       "      <td>18</td>\n",
       "      <td>49</td>\n",
       "      <td>2846</td>\n",
       "      <td>658</td>\n",
       "      <td>3059</td>\n",
       "      <td>445</td>\n",
       "      <td>2247</td>\n",
       "      <td>1077</td>\n",
       "      <td>180</td>\n",
       "    </tr>\n",
       "  </tbody>\n",
       "</table>\n",
       "</div>"
      ],
      "text/plain": [
       "   001 시군구별(1)  001 시군구별(2)  합계    Y2017 2017  Y2017 2017.1  Y2017 2017.2  \\\n",
       "0  001 시군구별(1)  001 시군구별(2)  합계  001 일상생활수행능력  001 일상생활수행능력  001 일상생활수행능력   \n",
       "1  001 시군구별(1)  001 시군구별(2)  합계      00102 정상      00103 경증     00104 중등증   \n",
       "2           서울          강서구  합계          3329           108            18   \n",
       "\n",
       "   Y2017 2017.3 Y2017 2017.4 Y2017 2017.5 Y2017 2017.6 Y2017 2017.7  \\\n",
       "0  001 일상생활수행능력       002 시력       002 시력       003 청력       003 청력   \n",
       "1     00105 최중증     00202 정상   00203 시력저하     00302 정상   00303 청력저하   \n",
       "2            49         2846          658         3059          445   \n",
       "\n",
       "  Y2017 2017.8 Y2017 2017.9 Y2017 2017.10  \n",
       "0     004 기능검사     004 기능검사      004 기능검사  \n",
       "1     00402 정상     00403 경증      00404 중증  \n",
       "2         2247         1077           180  "
      ]
     },
     "execution_count": 301,
     "metadata": {},
     "output_type": "execute_result"
    }
   ],
   "source": [
    "df_1"
   ]
  },
  {
   "cell_type": "code",
   "execution_count": 317,
   "id": "dd045b34",
   "metadata": {},
   "outputs": [
    {
     "data": {
      "image/png": "[encoded data removed]",
      "text/plain": [
       "<Figure size 432x288 with 1 Axes>"
      ]
     },
     "metadata": {
      "needs_background": "light"
     },
     "output_type": "display_data"
    }
   ],
   "source": [
    "import matplotlib.pyplot as plt\n",
    "plt.rc('font', family='Malgun Gothic')\n",
    "x=['정상','경증','중등증','최중증']\n",
    "y=[3329,108,18,49]\n",
    "plt.bar(x,y)\n",
    "plt.ylabel('인원수')\n",
    "plt.title('일상생활 수행능력')\n",
    "\n",
    "x=['정상','시력저하']\n",
    "y=[2846,658]\n",
    "plt.bar(x,y)\n",
    "plt.ylabel('인원수')\n",
    "plt.title('시력')\n",
    "\n",
    "x=['정상','청력저하']\n",
    "y=[3059,445]\n",
    "plt.bar(x,y)\n",
    "plt.ylabel('인원수')\n",
    "plt.title('청력')\n",
    "\n",
    "x=['정상','경증','중증']\n",
    "y=[2247,1077,180]\n",
    "plt.bar(x,y)\n",
    "plt.ylabel('인원수')\n",
    "plt.title('기능 검사')\n",
    "plt.show()\n"
   ]
  },
  {
   "cell_type": "code",
   "execution_count": 312,
   "id": "7012e097",
   "metadata": {},
   "outputs": [
    {
     "data": {
      "image/png": "[encoded data removed]",
      "text/plain": [
       "<Figure size 432x288 with 1 Axes>"
      ]
     },
     "metadata": {
      "needs_background": "light"
     },
     "output_type": "display_data"
    }
   ],
   "source": [
    "import matplotlib.pyplot as plt\n",
    "plt.rc('font', family='Malgun Gothic')\n",
    "x=['정상','시력저하']\n",
    "y=[2846,658]\n",
    "plt.bar(x,y)\n",
    "plt.ylabel('인원수')\n",
    "plt.title('시력')\n",
    "plt.show()"
   ]
  },
  {
   "cell_type": "code",
   "execution_count": 313,
   "id": "b89e5259",
   "metadata": {},
   "outputs": [
    {
     "data": {
      "image/png": "[encoded data removed]",
      "text/plain": [
       "<Figure size 432x288 with 1 Axes>"
      ]
     },
     "metadata": {
      "needs_background": "light"
     },
     "output_type": "display_data"
    }
   ],
   "source": [
    "import matplotlib.pyplot as plt\n",
    "plt.rc('font', family='Malgun Gothic')\n",
    "x=['정상','청력저하']\n",
    "y=[3059,445]\n",
    "plt.bar(x,y)\n",
    "plt.ylabel('인원수')\n",
    "plt.title('청력')\n",
    "plt.show()"
   ]
  },
  {
   "cell_type": "code",
   "execution_count": 314,
   "id": "312eb216",
   "metadata": {},
   "outputs": [
    {
     "data": {
      "image/png": "[encoded data removed]",
      "text/plain": [
       "<Figure size 432x288 with 1 Axes>"
      ]
     },
     "metadata": {
      "needs_background": "light"
     },
     "output_type": "display_data"
    }
   ],
   "source": [
    "import matplotlib.pyplot as plt\n",
    "plt.rc('font', family='Malgun Gothic')\n",
    "x=['정상','경증','중증']\n",
    "y=[2247,1077,180]\n",
    "plt.bar(x,y)\n",
    "plt.ylabel('인원수')\n",
    "plt.title('기능 검사')\n",
    "plt.show()\n"
   ]
  },
  {
   "cell_type": "code",
   "execution_count": 67,
   "id": "098a9cdc",
   "metadata": {},
   "outputs": [
    {
     "data": {
      "text/html": [
       "<div>\n",
       "<style scoped>\n",
       "    .dataframe tbody tr th:only-of-type {\n",
       "        vertical-align: middle;\n",
       "    }\n",
       "\n",
       "    .dataframe tbody tr th {\n",
       "        vertical-align: top;\n",
       "    }\n",
       "\n",
       "    .dataframe thead th {\n",
       "        text-align: right;\n",
       "    }\n",
       "</style>\n",
       "<table border=\"1\" class=\"dataframe\">\n",
       "  <thead>\n",
       "    <tr style=\"text-align: right;\">\n",
       "      <th></th>\n",
       "      <th>SGG 행정구역별(1)</th>\n",
       "      <th>M202110 2021.10</th>\n",
       "      <th>M202110 2021.10.1</th>\n",
       "      <th>M202110 2021.10.2</th>\n",
       "      <th>M202111 2021.11</th>\n",
       "      <th>M202111 2021.11.1</th>\n",
       "      <th>M202111 2021.11.2</th>\n",
       "      <th>M202112 2021.12</th>\n",
       "      <th>M202112 2021.12.1</th>\n",
       "      <th>M202112 2021.12.2</th>\n",
       "      <th>M202201 2022.01</th>\n",
       "      <th>M202201 2022.01.1</th>\n",
       "      <th>M202201 2022.01.2</th>\n",
       "      <th>M202202 2022.02</th>\n",
       "      <th>M202202 2022.02.1</th>\n",
       "      <th>M202202 2022.02.2</th>\n",
       "    </tr>\n",
       "  </thead>\n",
       "  <tbody>\n",
       "    <tr>\n",
       "      <th>0</th>\n",
       "      <td>SGG 행정구역별(1)</td>\n",
       "      <td>T10 고령인구비율&lt;br&gt;(A÷B×100) (14210.MT0001 %)</td>\n",
       "      <td>T001 65세이상인구&lt;br&gt;(A) (14STD04565 명)</td>\n",
       "      <td>T002 전체인구&lt;br&gt;(B) (14STD04565 명)</td>\n",
       "      <td>T10 고령인구비율&lt;br&gt;(A÷B×100) (14210.MT0001 %)</td>\n",
       "      <td>T001 65세이상인구&lt;br&gt;(A) (14STD04565 명)</td>\n",
       "      <td>T002 전체인구&lt;br&gt;(B) (14STD04565 명)</td>\n",
       "      <td>T10 고령인구비율&lt;br&gt;(A÷B×100) (14210.MT0001 %)</td>\n",
       "      <td>T001 65세이상인구&lt;br&gt;(A) (14STD04565 명)</td>\n",
       "      <td>T002 전체인구&lt;br&gt;(B) (14STD04565 명)</td>\n",
       "      <td>T10 고령인구비율&lt;br&gt;(A÷B×100) (14210.MT0001 %)</td>\n",
       "      <td>T001 65세이상인구&lt;br&gt;(A) (14STD04565 명)</td>\n",
       "      <td>T002 전체인구&lt;br&gt;(B) (14STD04565 명)</td>\n",
       "      <td>T10 고령인구비율&lt;br&gt;(A÷B×100) (14210.MT0001 %)</td>\n",
       "      <td>T001 65세이상인구&lt;br&gt;(A) (14STD04565 명)</td>\n",
       "      <td>T002 전체인구&lt;br&gt;(B) (14STD04565 명)</td>\n",
       "    </tr>\n",
       "    <tr>\n",
       "      <th>17</th>\n",
       "      <td>11 서울특별시</td>\n",
       "      <td>16.7</td>\n",
       "      <td>1589972</td>\n",
       "      <td>9532428</td>\n",
       "      <td>16.7</td>\n",
       "      <td>1593931</td>\n",
       "      <td>9520880</td>\n",
       "      <td>16.8</td>\n",
       "      <td>1597447</td>\n",
       "      <td>9509458</td>\n",
       "      <td>16.9</td>\n",
       "      <td>1605763</td>\n",
       "      <td>9505926</td>\n",
       "      <td>17.0</td>\n",
       "      <td>1612600</td>\n",
       "      <td>9508451</td>\n",
       "    </tr>\n",
       "    <tr>\n",
       "      <th>18</th>\n",
       "      <td>00 전국</td>\n",
       "      <td>17.0</td>\n",
       "      <td>8792644</td>\n",
       "      <td>51662290</td>\n",
       "      <td>17.1</td>\n",
       "      <td>8821070</td>\n",
       "      <td>51652704</td>\n",
       "      <td>17.1</td>\n",
       "      <td>8851033</td>\n",
       "      <td>51638809</td>\n",
       "      <td>17.2</td>\n",
       "      <td>8900662</td>\n",
       "      <td>51632473</td>\n",
       "      <td>17.3</td>\n",
       "      <td>8943147</td>\n",
       "      <td>51625561</td>\n",
       "    </tr>\n",
       "  </tbody>\n",
       "</table>\n",
       "</div>"
      ],
      "text/plain": [
       "    SGG 행정구역별(1)                           M202110 2021.10  \\\n",
       "0   SGG 행정구역별(1)  T10 고령인구비율<br>(A÷B×100) (14210.MT0001 %)   \n",
       "17      11 서울특별시                                      16.7   \n",
       "18         00 전국                                      17.0   \n",
       "\n",
       "                     M202110 2021.10.1                M202110 2021.10.2  \\\n",
       "0   T001 65세이상인구<br>(A) (14STD04565 명)  T002 전체인구<br>(B) (14STD04565 명)   \n",
       "17                             1589972                          9532428   \n",
       "18                             8792644                         51662290   \n",
       "\n",
       "                             M202111 2021.11  \\\n",
       "0   T10 고령인구비율<br>(A÷B×100) (14210.MT0001 %)   \n",
       "17                                      16.7   \n",
       "18                                      17.1   \n",
       "\n",
       "                     M202111 2021.11.1                M202111 2021.11.2  \\\n",
       "0   T001 65세이상인구<br>(A) (14STD04565 명)  T002 전체인구<br>(B) (14STD04565 명)   \n",
       "17                             1593931                          9520880   \n",
       "18                             8821070                         51652704   \n",
       "\n",
       "                             M202112 2021.12  \\\n",
       "0   T10 고령인구비율<br>(A÷B×100) (14210.MT0001 %)   \n",
       "17                                      16.8   \n",
       "18                                      17.1   \n",
       "\n",
       "                     M202112 2021.12.1                M202112 2021.12.2  \\\n",
       "0   T001 65세이상인구<br>(A) (14STD04565 명)  T002 전체인구<br>(B) (14STD04565 명)   \n",
       "17                             1597447                          9509458   \n",
       "18                             8851033                         51638809   \n",
       "\n",
       "                             M202201 2022.01  \\\n",
       "0   T10 고령인구비율<br>(A÷B×100) (14210.MT0001 %)   \n",
       "17                                      16.9   \n",
       "18                                      17.2   \n",
       "\n",
       "                     M202201 2022.01.1                M202201 2022.01.2  \\\n",
       "0   T001 65세이상인구<br>(A) (14STD04565 명)  T002 전체인구<br>(B) (14STD04565 명)   \n",
       "17                             1605763                          9505926   \n",
       "18                             8900662                         51632473   \n",
       "\n",
       "                             M202202 2022.02  \\\n",
       "0   T10 고령인구비율<br>(A÷B×100) (14210.MT0001 %)   \n",
       "17                                      17.0   \n",
       "18                                      17.3   \n",
       "\n",
       "                     M202202 2022.02.1                M202202 2022.02.2  \n",
       "0   T001 65세이상인구<br>(A) (14STD04565 명)  T002 전체인구<br>(B) (14STD04565 명)  \n",
       "17                             1612600                          9508451  \n",
       "18                             8943147                         51625561  "
      ]
     },
     "execution_count": 67,
     "metadata": {},
     "output_type": "execute_result"
    }
   ],
   "source": [
    "df2=df_2.drop(index=[2,3,4,5,6,7,8,9,10,11,12,13,14,15])\n",
    "df2"
   ]
  },
  {
   "cell_type": "code",
   "execution_count": 148,
   "id": "fc8f5b21",
   "metadata": {},
   "outputs": [],
   "source": [
    "import matplotlib.pyplot as plt\n",
    "x="
   ]
  },
  {
   "cell_type": "code",
   "execution_count": 302,
   "id": "58dc5d35",
   "metadata": {},
   "outputs": [
    {
     "data": {
      "text/plain": [
       "Text(0.5, 1.0, '서울특별시와 강서구의노인 인구비율')"
      ]
     },
     "execution_count": 302,
     "metadata": {},
     "output_type": "execute_result"
    },
    {
     "data": {
      "image/png": "[encoded data removed]",
      "text/plain": [
       "<Figure size 432x288 with 1 Axes>"
      ]
     },
     "metadata": {},
     "output_type": "display_data"
    }
   ],
   "source": [
    "import os\n",
    "import pandas as pd\n",
    "plt.rc('font', family='Malgun Gothic')\n",
    "labels=[\"서울특별시 노인인구 수\",\"강서구 노인인구수\"]\n",
    "sizes=[1593931,92036]\n",
    "fig, ax=plt.subplots(1,1)\n",
    "ax.pie(sizes, labels=labels)\n",
    "ax.set_title(\"서울특별시와 강서구의노인 인구비율\")"
   ]
  }
 ],
 "metadata": {
  "kernelspec": {
   "display_name": "Python 3 (ipykernel)",
   "language": "python",
   "name": "python3"
  },
  "language_info": {
   "codemirror_mode": {
    "name": "ipython",
    "version": 3
   },
   "file_extension": ".py",
   "mimetype": "text/x-python",
   "name": "python",
   "nbconvert_exporter": "python",
   "pygments_lexer": "ipython3",
   "version": "3.10.2"
  }
 },
 "nbformat": 4,
 "nbformat_minor": 5
}
